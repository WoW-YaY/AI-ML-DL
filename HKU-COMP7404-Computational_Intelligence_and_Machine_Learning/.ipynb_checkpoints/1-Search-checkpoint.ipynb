{
 "cells": [
  {
   "cell_type": "markdown",
   "metadata": {},
   "source": [
    "## 1 Search\n",
    "\n",
    "### 1.1 Introduction\n",
    "\n",
    "#### Abstraction\n",
    "\n",
    "**Search problems** are models: **Simplifications** of the real world; Solve a family of problems."
   ]
  },
  {
   "cell_type": "markdown",
   "metadata": {
    "pycharm": {
     "is_executing": true
    }
   },
   "source": []
  },
  {
   "cell_type": "markdown",
   "metadata": {},
   "source": []
  },
  {
   "cell_type": "markdown",
   "metadata": {},
   "source": [
    "\n",
    "#### Types of Search\n",
    "\n",
    "* Uninformed search: No information about the problem other than its definition is given\n",
    "* Informed search: A heuristic is used that leads to better overall performance in getting to the goal state\n",
    "* Local Search: Evaluate and modify a current state to move closer to a goal state\n",
    "* Constraint Satisfaction Problems: For certain types of problems we can search for solution faster by understanding states better\n",
    "* Adversarial Search: Search in the presence of an adversary\n",
    "\n",
    "#### Search Problem Definition\n",
    "\n",
    "**Definition** of search problem: (A solution is a sequence of actions (a plan) which transforms the start state to a goal state)\n",
    "\n",
    "* States: Details of what constitutes a state\n",
    "* Initial state: The state the agent starts in\n",
    "* Actions and transition model: Description of possible actions available; Description of what each action does (determined rather than contained uncertainty)\n",
    "* Goal test: Is a given state a goal state?\n",
    "\n",
    "● Path cost: A function that assigns a zero or positive numeric cost to each path\n",
    "\n",
    "**N-Queen Puzzle**: n queens are put in a n*n board, and none attacked.\n",
    "\n",
    "* Problem Definition A\n",
    "  * States: Any arrangement of 0 to n queens on the board\n",
    "  * Initial state: No queens on the board\n",
    "  * Actions and Transition model: Add a queen to an empty square\n",
    "  * Goal test: n queens are on the board, none attacked\n",
    "\n",
    "* Problem Definition B\n",
    "  * States: (at most) One queen per column, none attacking another\n",
    "  * Initial state: No queens on the board\n",
    "  * Actions and Transition model: Add a queen to an empty column such that no other queen is under attack\n",
    "  * Goal test: n queens are on the board\n",
    "\n",
    "Which is better? B has fewer states in state space\n",
    "\n",
    "#### State Space Graph vs. Search Tree\n",
    "\n",
    "**State Space**: The set of all states reachable from the initial state by any sequence of actions is the state space.\n",
    "\n",
    "* That's a ==graph==, the **nodes** are **states**, and the **links** between nodes are **actions**\n",
    "\n",
    "* The possible action sequences (node) form a search ==tree==: A solution is a path leading from the initial state to a goal state\n",
    "\n",
    "**State Space Graph v.s. Search Tree**:\n",
    "\n",
    "* Nodes are: states; a set of action sequences\n",
    "\n",
    "* States: occurs only once; may occur more than once\n",
    "\n",
    "* *Loop* graph; infinity depth tree\n",
    "\n",
    "  <img src=\"images/1-01.png\" style=\"zoom:50%;\" />"
   ]
  },
  {
   "cell_type": "code",
   "execution_count": null,
   "metadata": {
    "pycharm": {
     "is_executing": true
    }
   },
   "outputs": [],
   "source": [
    "a = 1"
   ]
  },
  {
   "cell_type": "code",
   "execution_count": null,
   "metadata": {},
   "outputs": [],
   "source": [
    "a"
   ]
  },
  {
   "cell_type": "code",
   "execution_count": null,
   "metadata": {},
   "outputs": [],
   "source": []
  },
  {
   "cell_type": "code",
   "execution_count": null,
   "metadata": {},
   "outputs": [],
   "source": []
  }
 ],
 "metadata": {
  "kernelspec": {
   "display_name": "Python 3 (ipykernel)",
   "language": "python",
   "name": "python3"
  },
  "language_info": {
   "codemirror_mode": {
    "name": "ipython",
    "version": 2
   },
   "file_extension": ".py",
   "mimetype": "text/x-python",
   "name": "python",
   "nbconvert_exporter": "python",
   "pygments_lexer": "ipython2",
   "version": "2.7.6"
  }
 },
 "nbformat": 4,
 "nbformat_minor": 1
}
