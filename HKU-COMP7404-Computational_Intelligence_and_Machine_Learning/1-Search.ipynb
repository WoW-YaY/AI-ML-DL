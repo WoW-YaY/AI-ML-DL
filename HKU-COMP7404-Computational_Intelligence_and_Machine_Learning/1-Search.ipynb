{
 "cells": [
  {
   "cell_type": "markdown",
   "source": [
    "## 1 Search"
   ],
   "metadata": {
    "collapsed": false
   }
  },
  {
   "cell_type": "markdown",
   "source": [
    "### 1.1 Introduction"
   ],
   "metadata": {
    "collapsed": false
   }
  },
  {
   "cell_type": "markdown",
   "source": [
    "#### Abstraction\n",
    "\n",
    "**Search problems** are models: **Simplifications** of the real world; Solve a family of problems."
   ],
   "metadata": {
    "collapsed": false
   }
  },
  {
   "cell_type": "markdown",
   "source": [
    "#### Types of Search\n",
    "\n",
    "* Uninformed search: No information about the problem other than its definition is given\n",
    "* Informed search: A heuristic is used that leads to better overall performance in getting to the goal state\n",
    "* Local Search: Evaluate and modify a current state to move closer to a goal state\n",
    "* Constraint Satisfaction Problems: For certain types of problems we can search for solution faster by understanding states better\n",
    "* Adversarial Search: Search in the presence of an adversary"
   ],
   "metadata": {
    "collapsed": false
   }
  },
  {
   "cell_type": "markdown",
   "source": [
    "#### Search Problem Definition\n",
    "\n",
    "**Definition** of search problem: (A solution is a sequence of actions (a plan) which transforms the start state to a goal state)\n",
    "\n",
    "* States: Details of what constitutes a state\n",
    "* Initial state: The state the agent starts in\n",
    "* Actions and transition model: Description of possible actions available; Description of what each action does (determined rather than contained uncertainty)\n",
    "* Goal test: Is a given state a goal state?\n",
    "\n",
    "● Path cost: A function that assigns a zero or positive numeric cost to each path\n",
    "\n",
    "**N-Queen Puzzle**: n queens are put in a n*n board, and none attacked.\n",
    "\n",
    "* Problem Definition A\n",
    "  * States: Any arrangement of 0 to n queens on the board\n",
    "  * Initial state: No queens on the board\n",
    "  * Actions and Transition model: Add a queen to an empty square\n",
    "  * Goal test: n queens are on the board, none attacked\n",
    "\n",
    "* Problem Definition B\n",
    "  * States: (at most) One queen per column, none attacking another\n",
    "  * Initial state: No queens on the board\n",
    "  * Actions and Transition model: Add a queen to an empty column such that no other queen is under attack\n",
    "  * Goal test: n queens are on the board\n",
    "\n",
    "Which is better? B has fewer states in state space"
   ],
   "metadata": {
    "collapsed": false
   }
  },
  {
   "cell_type": "markdown",
   "source": [
    "#### State Space Graph vs. Search Tree\n",
    "\n",
    "**State Space**: The set of all states reachable from the initial state by any sequence of actions is the state space.\n",
    "\n",
    "* That's a ==graph==, the **nodes** are **states**, and the **links** between nodes are **actions**\n",
    "\n",
    "* The possible action sequences (node) form a search ==tree==: A solution is a path leading from the initial state to a goal state\n",
    "\n",
    "**State Space Graph v.s. Search Tree**:\n",
    "\n",
    "* Nodes are: states; a set of action sequences\n",
    "\n",
    "* States: occurs only once; may occur more than once\n",
    "\n",
    "* *Loop* graph; infinity depth tree\n",
    "\n",
    "  <img src=\"images/1-01.png\" style=\"zoom:50%;\" />"
   ],
   "metadata": {
    "collapsed": false
   }
  },
  {
   "cell_type": "markdown",
   "source": [
    "### 1.2 Search Strategy & Search Algorithm (TSA, GSA)\n",
    "\n",
    "The search strategy defines the order of node expansion (ask a node how many neighbors it has, fewer is better)"
   ],
   "metadata": {
    "collapsed": false
   }
  },
  {
   "cell_type": "markdown",
   "source": [
    "#### Search Strategy Evaluation\n",
    "\n",
    "Search strategies are **evaluated** along the following dimensions:\n",
    "\n",
    "* Completeness: Always find a solution if one exists?\n",
    "* Optimality: Always find a least-cost solution?\n",
    "* Time complexity: Number of nodes generated (= edges traversed) / how many states have to look at\n",
    "* Space complexity: Max number of nodes in memory / how many states in the frontier (and explored set)\n",
    "\n",
    "> Time / space complexity are measured in terms of:\n",
    ">\n",
    "> * ***b***: maximum branching factor of the search tree\n",
    "> * ***d***: distance to root of the shallowest solution\n",
    "> * ***m***: maximum length of any path in the state space"
   ],
   "metadata": {
    "collapsed": false
   }
  },
  {
   "cell_type": "markdown",
   "source": [
    "#### Uninformed (Blind) Search Strategies\n",
    "\n",
    "* Breadth-first search (BFS)\n",
    "* Depth-first search (DFS)\n",
    "* Uniform-cost search (UCS)"
   ],
   "metadata": {
    "collapsed": false
   }
  },
  {
   "cell_type": "markdown",
   "source": [
    "#### Search Algorithms\n",
    "\n",
    "Search algorithms come in two different flavors:\n",
    "\n",
    "* Tree search algorithm (TSA)\n",
    "* Graph search algorithm (GSA)\n",
    "\n",
    "3*2 = 6 kinds of search algorithms"
   ],
   "metadata": {
    "collapsed": false
   }
  },
  {
   "cell_type": "markdown",
   "source": [
    "#### Romania Problem\n",
    "\n",
    "We define a \"Romanian problem\" to provide a case for the subsequent discussion. Our mission is to depart from *Arad* and eventually reach *Bucharest*.\n",
    "\n",
    "<img src=\"images/1-02.png\" style=\"zoom:50%;\" />"
   ],
   "metadata": {
    "collapsed": false
   }
  },
  {
   "cell_type": "code",
   "execution_count": 1,
   "outputs": [],
   "source": [
    "# problem definition\n",
    "romania = {\n",
    "    'A':['S','T','Z'],'Z':['A','O'],'O':['S','Z'],'T':['A','L'],'L':['M','T'],'M':['D','L'],\n",
    "    'D':['C','M'],'S':['A','F','O','R'],'R':['C','P','S'],'C':['D','P','R'],\n",
    "    'F':['B','S'],'P':['B','C','R'],'B':[]\n",
    "}"
   ],
   "metadata": {
    "collapsed": false
   }
  },
  {
   "cell_type": "markdown",
   "source": [
    "### 1.3 Uninformed - BFS\n",
    "\n",
    "* The BFS search strategy explores the shallowest node in the search tree.\n",
    "\n",
    "* The data structure that BFS is using for the frontier is a ***queue*** (first in first out).\n",
    "\n",
    "#### Queue in Python"
   ],
   "metadata": {
    "collapsed": false
   }
  },
  {
   "cell_type": "code",
   "execution_count": 2,
   "outputs": [
    {
     "data": {
      "text/plain": "'A'"
     },
     "execution_count": 2,
     "metadata": {},
     "output_type": "execute_result"
    }
   ],
   "source": [
    "import collections\n",
    "queue = collections.deque(['A', 'B', 'C', 'D']) # double-ended queue\n",
    "queue.popleft()"
   ],
   "metadata": {
    "collapsed": false
   }
  },
  {
   "cell_type": "code",
   "execution_count": 3,
   "outputs": [
    {
     "data": {
      "text/plain": "deque(['B', 'C', 'D'])"
     },
     "execution_count": 3,
     "metadata": {},
     "output_type": "execute_result"
    }
   ],
   "source": [
    "queue"
   ],
   "metadata": {
    "collapsed": false
   }
  },
  {
   "cell_type": "code",
   "execution_count": 4,
   "outputs": [
    {
     "data": {
      "text/plain": "'B'"
     },
     "execution_count": 4,
     "metadata": {},
     "output_type": "execute_result"
    }
   ],
   "source": [
    "queue.popleft()"
   ],
   "metadata": {
    "collapsed": false
   }
  },
  {
   "cell_type": "code",
   "execution_count": 5,
   "outputs": [
    {
     "data": {
      "text/plain": "deque(['C', 'D'])"
     },
     "execution_count": 5,
     "metadata": {},
     "output_type": "execute_result"
    }
   ],
   "source": [
    "queue"
   ],
   "metadata": {
    "collapsed": false
   }
  },
  {
   "cell_type": "markdown",
   "source": [
    "#### Tree Search Algorithm (TSA) - BFS Version\n",
    "\n",
    "<img src=\"images/1-03.png\" style=\"zoom:50%;\" />\n",
    "\n",
    "(the ONLY difference between BFS, DFS and UCS is how to choose the node)"
   ],
   "metadata": {
    "collapsed": false
   }
  },
  {
   "cell_type": "code",
   "execution_count": 6,
   "outputs": [],
   "source": [
    "import collections\n",
    "def bfsTsa(stateSpaceGraph, startState, goalState):\n",
    "    frontier = collections.deque([startState])\n",
    "    print('Initial frontier:',list(frontier))\n",
    "    while frontier:\n",
    "        node = frontier.popleft()\n",
    "        if (node.endswith(goalState)): return node\n",
    "        print('Exploring:',node[-1],'...')\n",
    "        for child in stateSpaceGraph[node[-1]]: frontier.append(node+child)\n",
    "        print(list(frontier))"
   ],
   "metadata": {
    "collapsed": false
   }
  },
  {
   "cell_type": "code",
   "execution_count": 7,
   "outputs": [
    {
     "name": "stdout",
     "output_type": "stream",
     "text": [
      "Initial frontier: ['A']\n",
      "Exploring: A ...\n",
      "['AS', 'AT', 'AZ']\n",
      "Exploring: S ...\n",
      "['AT', 'AZ', 'ASA', 'ASF', 'ASO', 'ASR']\n",
      "Exploring: T ...\n",
      "['AZ', 'ASA', 'ASF', 'ASO', 'ASR', 'ATA', 'ATL']\n",
      "Exploring: Z ...\n",
      "['ASA', 'ASF', 'ASO', 'ASR', 'ATA', 'ATL', 'AZA', 'AZO']\n",
      "Exploring: A ...\n",
      "['ASF', 'ASO', 'ASR', 'ATA', 'ATL', 'AZA', 'AZO', 'ASAS', 'ASAT', 'ASAZ']\n",
      "Exploring: F ...\n",
      "['ASO', 'ASR', 'ATA', 'ATL', 'AZA', 'AZO', 'ASAS', 'ASAT', 'ASAZ', 'ASFB', 'ASFS']\n",
      "Exploring: O ...\n",
      "['ASR', 'ATA', 'ATL', 'AZA', 'AZO', 'ASAS', 'ASAT', 'ASAZ', 'ASFB', 'ASFS', 'ASOS', 'ASOZ']\n",
      "Exploring: R ...\n",
      "['ATA', 'ATL', 'AZA', 'AZO', 'ASAS', 'ASAT', 'ASAZ', 'ASFB', 'ASFS', 'ASOS', 'ASOZ', 'ASRC', 'ASRP', 'ASRS']\n",
      "Exploring: A ...\n",
      "['ATL', 'AZA', 'AZO', 'ASAS', 'ASAT', 'ASAZ', 'ASFB', 'ASFS', 'ASOS', 'ASOZ', 'ASRC', 'ASRP', 'ASRS', 'ATAS', 'ATAT', 'ATAZ']\n",
      "Exploring: L ...\n",
      "['AZA', 'AZO', 'ASAS', 'ASAT', 'ASAZ', 'ASFB', 'ASFS', 'ASOS', 'ASOZ', 'ASRC', 'ASRP', 'ASRS', 'ATAS', 'ATAT', 'ATAZ', 'ATLM', 'ATLT']\n",
      "Exploring: A ...\n",
      "['AZO', 'ASAS', 'ASAT', 'ASAZ', 'ASFB', 'ASFS', 'ASOS', 'ASOZ', 'ASRC', 'ASRP', 'ASRS', 'ATAS', 'ATAT', 'ATAZ', 'ATLM', 'ATLT', 'AZAS', 'AZAT', 'AZAZ']\n",
      "Exploring: O ...\n",
      "['ASAS', 'ASAT', 'ASAZ', 'ASFB', 'ASFS', 'ASOS', 'ASOZ', 'ASRC', 'ASRP', 'ASRS', 'ATAS', 'ATAT', 'ATAZ', 'ATLM', 'ATLT', 'AZAS', 'AZAT', 'AZAZ', 'AZOS', 'AZOZ']\n",
      "Exploring: S ...\n",
      "['ASAT', 'ASAZ', 'ASFB', 'ASFS', 'ASOS', 'ASOZ', 'ASRC', 'ASRP', 'ASRS', 'ATAS', 'ATAT', 'ATAZ', 'ATLM', 'ATLT', 'AZAS', 'AZAT', 'AZAZ', 'AZOS', 'AZOZ', 'ASASA', 'ASASF', 'ASASO', 'ASASR']\n",
      "Exploring: T ...\n",
      "['ASAZ', 'ASFB', 'ASFS', 'ASOS', 'ASOZ', 'ASRC', 'ASRP', 'ASRS', 'ATAS', 'ATAT', 'ATAZ', 'ATLM', 'ATLT', 'AZAS', 'AZAT', 'AZAZ', 'AZOS', 'AZOZ', 'ASASA', 'ASASF', 'ASASO', 'ASASR', 'ASATA', 'ASATL']\n",
      "Exploring: Z ...\n",
      "['ASFB', 'ASFS', 'ASOS', 'ASOZ', 'ASRC', 'ASRP', 'ASRS', 'ATAS', 'ATAT', 'ATAZ', 'ATLM', 'ATLT', 'AZAS', 'AZAT', 'AZAZ', 'AZOS', 'AZOZ', 'ASASA', 'ASASF', 'ASASO', 'ASASR', 'ASATA', 'ASATL', 'ASAZA', 'ASAZO']\n",
      "Solution path: ASFB\n"
     ]
    }
   ],
   "source": [
    "print('Solution path:',bfsTsa(romania, 'A', 'B'))"
   ],
   "metadata": {
    "collapsed": false
   }
  },
  {
   "cell_type": "markdown",
   "source": [
    "This is consuming! We should remember where we have been already! That's GSA"
   ],
   "metadata": {
    "collapsed": false
   }
  },
  {
   "cell_type": "markdown",
   "source": [
    "#### Graph Search Algorithm (GSA) - BFS Version\n",
    "\n",
    "<img src=\"images/1-04.png\" style=\"zoom:50%;\" />"
   ],
   "metadata": {
    "collapsed": false
   }
  },
  {
   "cell_type": "code",
   "execution_count": 8,
   "outputs": [],
   "source": [
    "import collections\n",
    "def bfsGsa(stateSpaceGraph, startState, goalState):\n",
    "    frontier = collections.deque([startState])\n",
    "    exploredSet = set()\n",
    "    print('Initial frontier:',list(frontier))\n",
    "    while frontier:\n",
    "        node = frontier.popleft()\n",
    "        if (node.endswith(goalState)): return node\n",
    "        if node[-1] not in exploredSet:\n",
    "            print('Exploring:',node[-1],'...')\n",
    "            exploredSet.add(node[-1])\n",
    "            for child in stateSpaceGraph[node[-1]]: frontier.append(node+child)\n",
    "            print(list(frontier))\n",
    "            print(exploredSet)"
   ],
   "metadata": {
    "collapsed": false
   }
  },
  {
   "cell_type": "code",
   "execution_count": 9,
   "outputs": [
    {
     "name": "stdout",
     "output_type": "stream",
     "text": [
      "Initial frontier: ['A']\n",
      "Exploring: A ...\n",
      "['AS', 'AT', 'AZ']\n",
      "{'A'}\n",
      "Exploring: S ...\n",
      "['AT', 'AZ', 'ASA', 'ASF', 'ASO', 'ASR']\n",
      "{'A', 'S'}\n",
      "Exploring: T ...\n",
      "['AZ', 'ASA', 'ASF', 'ASO', 'ASR', 'ATA', 'ATL']\n",
      "{'A', 'S', 'T'}\n",
      "Exploring: Z ...\n",
      "['ASA', 'ASF', 'ASO', 'ASR', 'ATA', 'ATL', 'AZA', 'AZO']\n",
      "{'A', 'S', 'Z', 'T'}\n",
      "Exploring: F ...\n",
      "['ASO', 'ASR', 'ATA', 'ATL', 'AZA', 'AZO', 'ASFB', 'ASFS']\n",
      "{'Z', 'T', 'A', 'S', 'F'}\n",
      "Exploring: O ...\n",
      "['ASR', 'ATA', 'ATL', 'AZA', 'AZO', 'ASFB', 'ASFS', 'ASOS', 'ASOZ']\n",
      "{'O', 'Z', 'T', 'A', 'S', 'F'}\n",
      "Exploring: R ...\n",
      "['ATA', 'ATL', 'AZA', 'AZO', 'ASFB', 'ASFS', 'ASOS', 'ASOZ', 'ASRC', 'ASRP', 'ASRS']\n",
      "{'R', 'O', 'Z', 'T', 'A', 'S', 'F'}\n",
      "Exploring: L ...\n",
      "['AZA', 'AZO', 'ASFB', 'ASFS', 'ASOS', 'ASOZ', 'ASRC', 'ASRP', 'ASRS', 'ATLM', 'ATLT']\n",
      "{'L', 'R', 'O', 'Z', 'T', 'A', 'S', 'F'}\n",
      "Solution path: ASFB\n"
     ]
    }
   ],
   "source": [
    "print('Solution path:',bfsGsa(romania, 'A', 'B'))"
   ],
   "metadata": {
    "collapsed": false
   }
  },
  {
   "cell_type": "markdown",
   "source": [
    "> ***Question***: will TSA and GSA give the same solution if there are no loops.\n",
    ">\n",
    "> Exploration order: the destination is not included."
   ],
   "metadata": {
    "collapsed": false
   }
  },
  {
   "cell_type": "markdown",
   "source": [
    "#### BFS Properties\n",
    "\n",
    "| Completeness | Optimality                     | Time complexity              | Space complexity          |\n",
    "| ------------ | ------------------------------ | ---------------------------- | ------------------------- |\n",
    "| YES          | NO, don't even care about cost | $b^0+b^1+...+b^d-1 = O(b^d)$ | TSA: $b^{d+1}-b = O(b^d)$ |"
   ],
   "metadata": {
    "collapsed": false
   }
  },
  {
   "cell_type": "markdown",
   "source": [
    "### 1.4 Uninformed - DFS\n",
    "\n",
    "* DFS explores the deepest node in the search tree\n",
    "* DFS uses ***stack*** rather than queue in the data structure\n",
    "  * In python, we just replace *popleft( )* with *pop( )*"
   ],
   "metadata": {
    "collapsed": false
   }
  },
  {
   "cell_type": "markdown",
   "source": [
    "#### Graph Search Algorithm (GSA) - DFS Version"
   ],
   "metadata": {
    "collapsed": false
   }
  },
  {
   "cell_type": "code",
   "execution_count": 10,
   "outputs": [],
   "source": [
    "import collections\n",
    "def dfsGsa(stateSpaceGraph, startState, goalState):\n",
    "    frontier = collections.deque([startState])\n",
    "    exploredSet = set()\n",
    "    print('Initial frontier:',list(frontier))\n",
    "    while frontier:\n",
    "        node = frontier.pop()\n",
    "        if (node.endswith(goalState)): return node\n",
    "        if node[-1] not in exploredSet:\n",
    "            print('Exploring:',node[-1],'...')\n",
    "            exploredSet.add(node[-1])\n",
    "            for child in stateSpaceGraph[node[-1]]: frontier.append(node+child)\n",
    "            print(list(frontier))\n",
    "            print(exploredSet)"
   ],
   "metadata": {
    "collapsed": false
   }
  },
  {
   "cell_type": "code",
   "execution_count": 11,
   "outputs": [
    {
     "name": "stdout",
     "output_type": "stream",
     "text": [
      "Initial frontier: ['A']\n",
      "Exploring: A ...\n",
      "['AS', 'AT', 'AZ']\n",
      "{'A'}\n",
      "Exploring: Z ...\n",
      "['AS', 'AT', 'AZA', 'AZO']\n",
      "{'A', 'Z'}\n",
      "Exploring: O ...\n",
      "['AS', 'AT', 'AZA', 'AZOS', 'AZOZ']\n",
      "{'A', 'O', 'Z'}\n",
      "Exploring: S ...\n",
      "['AS', 'AT', 'AZA', 'AZOSA', 'AZOSF', 'AZOSO', 'AZOSR']\n",
      "{'A', 'S', 'O', 'Z'}\n",
      "Exploring: R ...\n",
      "['AS', 'AT', 'AZA', 'AZOSA', 'AZOSF', 'AZOSO', 'AZOSRC', 'AZOSRP', 'AZOSRS']\n",
      "{'R', 'O', 'Z', 'A', 'S'}\n",
      "Exploring: P ...\n",
      "['AS', 'AT', 'AZA', 'AZOSA', 'AZOSF', 'AZOSO', 'AZOSRC', 'AZOSRPB', 'AZOSRPC', 'AZOSRPR']\n",
      "{'R', 'O', 'Z', 'P', 'A', 'S'}\n",
      "Exploring: C ...\n",
      "['AS', 'AT', 'AZA', 'AZOSA', 'AZOSF', 'AZOSO', 'AZOSRC', 'AZOSRPB', 'AZOSRPCD', 'AZOSRPCP', 'AZOSRPCR']\n",
      "{'R', 'O', 'Z', 'P', 'A', 'S', 'C'}\n",
      "Exploring: D ...\n",
      "['AS', 'AT', 'AZA', 'AZOSA', 'AZOSF', 'AZOSO', 'AZOSRC', 'AZOSRPB', 'AZOSRPCDC', 'AZOSRPCDM']\n",
      "{'R', 'O', 'Z', 'P', 'A', 'S', 'C', 'D'}\n",
      "Exploring: M ...\n",
      "['AS', 'AT', 'AZA', 'AZOSA', 'AZOSF', 'AZOSO', 'AZOSRC', 'AZOSRPB', 'AZOSRPCDC', 'AZOSRPCDMD', 'AZOSRPCDML']\n",
      "{'M', 'R', 'O', 'Z', 'P', 'A', 'S', 'C', 'D'}\n",
      "Exploring: L ...\n",
      "['AS', 'AT', 'AZA', 'AZOSA', 'AZOSF', 'AZOSO', 'AZOSRC', 'AZOSRPB', 'AZOSRPCDC', 'AZOSRPCDMD', 'AZOSRPCDMLM', 'AZOSRPCDMLT']\n",
      "{'L', 'M', 'R', 'O', 'Z', 'P', 'A', 'S', 'C', 'D'}\n",
      "Exploring: T ...\n",
      "['AS', 'AT', 'AZA', 'AZOSA', 'AZOSF', 'AZOSO', 'AZOSRC', 'AZOSRPB', 'AZOSRPCDC', 'AZOSRPCDMD', 'AZOSRPCDMLM', 'AZOSRPCDMLTA', 'AZOSRPCDMLTL']\n",
      "{'L', 'M', 'R', 'O', 'Z', 'P', 'A', 'S', 'C', 'T', 'D'}\n",
      "Solution path: AZOSRPB\n"
     ]
    }
   ],
   "source": [
    "print('Solution path:',dfsGsa(romania, 'A', 'B'))"
   ],
   "metadata": {
    "collapsed": false
   }
  },
  {
   "cell_type": "markdown",
   "source": [
    "#### DFS Properties\n",
    "\n",
    "| Completeness (TSA)       | Optimality                 | Time complexity              | Space complexity                     |\n",
    "| ------------------------ | -------------------------- | ---------------------------- | ------------------------------------ |\n",
    "| NO, a circle is possible | NO, don't even completable | $b^0+b^1+...+b^m-1 = O(b^m)$ | $(b-1)\\times (m-1)+b = O(b\\times m)$ |\n",
    "\n",
    "Space complexity is much better!"
   ],
   "metadata": {
    "collapsed": false
   }
  },
  {
   "cell_type": "markdown",
   "source": [
    "#### (BFS/DFS) - (TSA/GSA) Summary\n",
    "\n",
    "**BFS vs. DFS**:\n",
    "\n",
    "* If solutions are close to the root of the search tree: BFS outperforms DFS\n",
    "* If all solutions are deep inside the search tree: DFS outperforms BFS\n",
    "\n",
    "**GSA vs. TSA**:\n",
    "\n",
    "* GSA\n",
    "  * Avoids infinite loops\n",
    "  * Eliminates exponentially many redundant paths\n",
    "  * Requires memory proportional to its runtime\n",
    "* TSA\n",
    "  * Could be stuck in infinite loops\n",
    "  * Explores redundant paths\n",
    "  * Requires less memory\n",
    "  * Easier to implement"
   ],
   "metadata": {
    "collapsed": false
   }
  },
  {
   "cell_type": "markdown",
   "source": [
    "### 1.5 Uninformed - UCS\n",
    "\n",
    "* UCS explores the cheapest node first\n",
    "\n",
    "**Priority Queue in Python**"
   ],
   "metadata": {
    "collapsed": false
   }
  },
  {
   "cell_type": "code",
   "execution_count": 12,
   "outputs": [
    {
     "data": {
      "text/plain": "[(1, 'B'), (2, 'A'), (1, 'C')]"
     },
     "execution_count": 12,
     "metadata": {},
     "output_type": "execute_result"
    }
   ],
   "source": [
    "from heapq import heappush, heappop\n",
    "frontier = []\n",
    "heappush(frontier, (2, 'A'))\n",
    "heappush(frontier, (1, 'C'))\n",
    "heappush(frontier, (1, 'B'))\n",
    "frontier"
   ],
   "metadata": {
    "collapsed": false
   }
  },
  {
   "cell_type": "code",
   "execution_count": 13,
   "outputs": [
    {
     "data": {
      "text/plain": "(1, 'B')"
     },
     "execution_count": 13,
     "metadata": {},
     "output_type": "execute_result"
    }
   ],
   "source": [
    "heappop(frontier)"
   ],
   "metadata": {
    "collapsed": false
   }
  },
  {
   "cell_type": "code",
   "execution_count": 14,
   "outputs": [
    {
     "data": {
      "text/plain": "(1, 'C')"
     },
     "execution_count": 14,
     "metadata": {},
     "output_type": "execute_result"
    }
   ],
   "source": [
    "heappop(frontier)"
   ],
   "metadata": {
    "collapsed": false
   }
  },
  {
   "cell_type": "code",
   "execution_count": 15,
   "outputs": [
    {
     "data": {
      "text/plain": "True"
     },
     "execution_count": 15,
     "metadata": {},
     "output_type": "execute_result"
    }
   ],
   "source": [
    "(1, 'B') < (2, 'A')"
   ],
   "metadata": {
    "collapsed": false
   }
  },
  {
   "cell_type": "code",
   "execution_count": 16,
   "outputs": [
    {
     "data": {
      "text/plain": "False"
     },
     "execution_count": 16,
     "metadata": {},
     "output_type": "execute_result"
    }
   ],
   "source": [
    "(1, 'B') < (1, 'A')"
   ],
   "metadata": {
    "collapsed": false
   }
  },
  {
   "cell_type": "markdown",
   "source": [
    "**Redefine the problem**"
   ],
   "metadata": {
    "collapsed": false
   }
  },
  {
   "cell_type": "code",
   "execution_count": 17,
   "outputs": [],
   "source": [
    "# update problem definition\n",
    "romania = {\n",
    "    'A':[(140,'S'),(118,'T'),(75,'Z')],'Z':[(75,'A'),(71,'O')],'O':[(151,'S'),(71,'Z')],\n",
    "    'T':[(118,'A'),(111,'L')],'L':[(70,'M'),(111,'T')],'M':[(75,'D'),(70,'L')],\n",
    "    'D':[(120,'C'),(75,'M')],'S':[(140,'A'),(99,'F'),(151,'O'),(80,'R')],\n",
    "    'R':[(146,'C'),(97,'P'),(80,'S')],'C':[(120,'D'),(138,'P'),(146,'R')],\n",
    "    'F':[(211,'B'),(99,'S')],'P':[(101,'B'),(138,'C'),(97,'R')],'B':[]\n",
    "}"
   ],
   "metadata": {
    "collapsed": false
   }
  },
  {
   "cell_type": "code",
   "execution_count": 18,
   "outputs": [],
   "source": [
    "from heapq import heappush, heappop\n",
    "def ucsGsa(stateSpaceGraph, startState, goalState):\n",
    "    frontier = []\n",
    "    heappush(frontier, (0, startState))\n",
    "    exploredSet = set()\n",
    "    print('Initial frontier:',list(frontier))\n",
    "    while frontier:\n",
    "        node = heappop(frontier)\n",
    "        if (node[1].endswith(goalState)): return node\n",
    "        if node[1][-1] not in exploredSet:\n",
    "            print('Exploring:',node[1][-1],'at cost',node[0])\n",
    "            exploredSet.add(node[1][-1])\n",
    "            for child in stateSpaceGraph[node[1][-1]]:\n",
    "                heappush(frontier, (node[0]+child[0], node[1]+child[1])) # arithmetically plus vs string concatenation\n",
    "            print(list(frontier))\n",
    "            print(exploredSet)"
   ],
   "metadata": {
    "collapsed": false
   }
  },
  {
   "cell_type": "code",
   "execution_count": 19,
   "outputs": [
    {
     "name": "stdout",
     "output_type": "stream",
     "text": [
      "Initial frontier: [(0, 'A')]\n",
      "Exploring: A at cost 0\n",
      "[(75, 'AZ'), (140, 'AS'), (118, 'AT')]\n",
      "{'A'}\n",
      "Exploring: Z at cost 75\n",
      "[(118, 'AT'), (140, 'AS'), (150, 'AZA'), (146, 'AZO')]\n",
      "{'A', 'Z'}\n",
      "Exploring: T at cost 118\n",
      "[(140, 'AS'), (146, 'AZO'), (150, 'AZA'), (236, 'ATA'), (229, 'ATL')]\n",
      "{'A', 'Z', 'T'}\n",
      "Exploring: S at cost 140\n",
      "[(146, 'AZO'), (220, 'ASR'), (150, 'AZA'), (229, 'ATL'), (280, 'ASA'), (239, 'ASF'), (291, 'ASO'), (236, 'ATA')]\n",
      "{'A', 'S', 'Z', 'T'}\n",
      "Exploring: O at cost 146\n",
      "[(150, 'AZA'), (217, 'AZOZ'), (236, 'ATA'), (220, 'ASR'), (280, 'ASA'), (239, 'ASF'), (291, 'ASO'), (297, 'AZOS'), (229, 'ATL')]\n",
      "{'O', 'Z', 'T', 'A', 'S'}\n",
      "Exploring: R at cost 220\n",
      "[(229, 'ATL'), (280, 'ASA'), (236, 'ATA'), (297, 'AZOS'), (291, 'ASO'), (239, 'ASF'), (366, 'ASRC'), (317, 'ASRP'), (300, 'ASRS')]\n",
      "{'R', 'O', 'Z', 'T', 'A', 'S'}\n",
      "Exploring: L at cost 229\n",
      "[(236, 'ATA'), (280, 'ASA'), (239, 'ASF'), (297, 'AZOS'), (291, 'ASO'), (300, 'ASRS'), (366, 'ASRC'), (317, 'ASRP'), (299, 'ATLM'), (340, 'ATLT')]\n",
      "{'L', 'R', 'O', 'Z', 'T', 'A', 'S'}\n",
      "Exploring: F at cost 239\n",
      "[(280, 'ASA'), (291, 'ASO'), (300, 'ASRS'), (297, 'AZOS'), (299, 'ATLM'), (340, 'ATLT'), (366, 'ASRC'), (317, 'ASRP'), (450, 'ASFB'), (338, 'ASFS')]\n",
      "{'L', 'R', 'O', 'Z', 'T', 'A', 'S', 'F'}\n",
      "Exploring: M at cost 299\n",
      "[(300, 'ASRS'), (317, 'ASRP'), (340, 'ATLT'), (338, 'ASFS'), (450, 'ASFB'), (366, 'ASRC'), (374, 'ATLMD'), (369, 'ATLML')]\n",
      "{'L', 'M', 'R', 'O', 'Z', 'T', 'A', 'S', 'F'}\n",
      "Exploring: P at cost 317\n",
      "[(338, 'ASFS'), (369, 'ATLML'), (340, 'ATLT'), (374, 'ATLMD'), (450, 'ASFB'), (366, 'ASRC'), (418, 'ASRPB'), (455, 'ASRPC'), (414, 'ASRPR')]\n",
      "{'L', 'M', 'R', 'O', 'Z', 'T', 'A', 'S', 'P', 'F'}\n",
      "Exploring: C at cost 366\n",
      "[(369, 'ATLML'), (374, 'ATLMD'), (414, 'ASRPR'), (418, 'ASRPB'), (450, 'ASFB'), (455, 'ASRPC'), (486, 'ASRCD'), (504, 'ASRCP'), (512, 'ASRCR')]\n",
      "{'L', 'M', 'R', 'O', 'Z', 'T', 'A', 'S', 'P', 'C', 'F'}\n",
      "Exploring: D at cost 374\n",
      "[(414, 'ASRPR'), (418, 'ASRPB'), (455, 'ASRPC'), (449, 'ATLMDM'), (450, 'ASFB'), (512, 'ASRCR'), (486, 'ASRCD'), (504, 'ASRCP'), (494, 'ATLMDC')]\n",
      "{'L', 'M', 'R', 'O', 'Z', 'T', 'A', 'S', 'P', 'C', 'D', 'F'}\n",
      "Solution path: (418, 'ASRPB')\n"
     ]
    }
   ],
   "source": [
    "print('Solution path:',ucsGsa(romania, 'A', 'B'))"
   ],
   "metadata": {
    "collapsed": false
   }
  },
  {
   "cell_type": "markdown",
   "source": [
    "#### UCS Properties\n",
    "\n",
    "if all the cost is 0, UCG becomes DFS\n",
    "\n",
    "| Completeness (TSA) | Optimality | Time complexity              | Space complexity                     |\n",
    "| ------------------ | ---------- | ---------------------------- | ------------------------------------ |\n",
    "| UNLESS (cost = 0)  | YES        | $b^0+b^1+...+b^d-1 = O(b^d)$ | $(b-1)\\times (d-1)+b = O(b\\times d)$ |\n",
    "\n",
    "> * $C^\\star$: cost of optimal solution\n",
    "> * $\\epsilon$: smallest path cost in search graph\n",
    "> * $d={C^\\star\\over \\epsilon}$: estimate of the depth of shallowest solution"
   ],
   "metadata": {
    "collapsed": false
   }
  },
  {
   "cell_type": "markdown",
   "source": [
    "### 1.6 Informed - Greedy"
   ],
   "metadata": {
    "collapsed": false
   }
  },
  {
   "cell_type": "markdown",
   "source": [
    "#### Informed Search\n",
    "\n",
    "* Informed search strategies find solutions more efficiently than uninformed search strategies\n",
    "* They employ **problem specific knowledge** beyond the definition of the problem itself: Heuristic function\n",
    "* Examples: Greedy best-first search, A* search\n",
    "\n",
    "**Heuristic Function**:\n",
    "\n",
    "* A function that estimates how close you are to the goal (e.g. Straight-line distance)\n",
    "* Designed for a particular search problem\n",
    "* h(n): Cost (estimate) of the cheapest path from the state at node n to a goal state\n",
    "* If n is a goal node h(n) = 0"
   ],
   "metadata": {
    "collapsed": false
   }
  },
  {
   "cell_type": "markdown",
   "source": [
    "#### Greedy Search Strategy\n",
    "\n",
    "* Also known as Best-first Search\n",
    "* Expand the node that has the lowest h(n)\n",
    "    * What can possibly go wrong with this approach? Only care about h, you may end up with something you don't want, i.e. it can sometimes not be the optimal\n",
    "\n",
    "UCS -> Greedy: replace the cost with h(n)\n",
    "\n",
    "**Define Heuristic Function**: In this example we just initialise it randomly, but in real case that's often a tough problem."
   ],
   "metadata": {
    "collapsed": false
   }
  },
  {
   "cell_type": "code",
   "execution_count": 20,
   "outputs": [],
   "source": [
    "romaniaH = {\n",
    "    'A':366,'B':0,'C':160,'D':242,'E':161,'F':176,'G':77,'H':151,'I':226,\n",
    "    'L':244,'M':241,'N':234,'O':380,'P':100,'R':193,'S':253,'T':329,'U':80,\n",
    "    'V':199,'Z':374}"
   ],
   "metadata": {
    "collapsed": false
   }
  },
  {
   "cell_type": "code",
   "execution_count": 21,
   "outputs": [],
   "source": [
    "def greedyTsa(stateSpaceGraph, h, startState, goalState):\n",
    "    frontier = []\n",
    "    heappush(frontier, (h[startState], startState))\n",
    "    print('Initial frontier:',list(frontier))\n",
    "    while frontier:\n",
    "        node = heappop(frontier)\n",
    "        if (node[1].endswith(goalState)): return node\n",
    "        print('Exploring:',node[1][-1],'at cost',node[0])\n",
    "        for child in stateSpaceGraph[node[1][-1]]:\n",
    "            heappush(frontier, (h[child[1]], node[1]+child[1]))\n",
    "        print(list(frontier))"
   ],
   "metadata": {
    "collapsed": false
   }
  },
  {
   "cell_type": "code",
   "execution_count": 22,
   "outputs": [
    {
     "name": "stdout",
     "output_type": "stream",
     "text": [
      "Initial frontier: [(366, 'A')]\n",
      "Exploring: A at cost 366\n",
      "[(253, 'AS'), (329, 'AT'), (374, 'AZ')]\n",
      "Exploring: S at cost 253\n",
      "[(176, 'ASF'), (329, 'AT'), (193, 'ASR'), (374, 'AZ'), (380, 'ASO'), (366, 'ASA')]\n",
      "Exploring: F at cost 176\n",
      "[(0, 'ASFB'), (329, 'AT'), (193, 'ASR'), (374, 'AZ'), (380, 'ASO'), (366, 'ASA'), (253, 'ASFS')]\n",
      "Solution path: (0, 'ASFB')\n"
     ]
    }
   ],
   "source": [
    "print('Solution path:',greedyTsa(romania, romaniaH, 'A', 'B'))"
   ],
   "metadata": {
    "collapsed": false
   }
  },
  {
   "cell_type": "markdown",
   "source": [
    "What's the problem about greedy? We totally don't care about the cost. So, $A^*$ comes."
   ],
   "metadata": {
    "collapsed": false
   }
  },
  {
   "cell_type": "markdown",
   "source": [
    "### 1.7 Informed - $A^*$"
   ],
   "metadata": {
    "collapsed": false
   }
  },
  {
   "cell_type": "markdown",
   "source": [
    "#### Motivation: UCA + Greedy\n",
    "\n",
    "<img src=\"images/1-05.png\" style=\"zoom:50%;\" />\n",
    "\n",
    "* UCS orders by backward cost: g(n)\n",
    "\n",
    "* Greedy orders by forward cost: h(n)\n",
    "\n",
    "<img src=\"images/1-06.png\" style=\"zoom:30%;\" />\n",
    "\n",
    "* $A^*$ orders by backward cost + forward cost: f(n) = g(n) + h(n)"
   ],
   "metadata": {
    "collapsed": false
   }
  },
  {
   "cell_type": "code",
   "execution_count": 23,
   "outputs": [],
   "source": [
    "def aStarTsa(stateSpaceGraph, h, startState, goalState):\n",
    "    frontier = []\n",
    "    heappush(frontier, (h[startState], startState))\n",
    "    print('Initial frontier:',list(frontier))\n",
    "    while frontier:\n",
    "        node = heappop(frontier)\n",
    "        if (node[1].endswith(goalState)): return node\n",
    "        print('Exploring:',node[1][-1],'at cost',node[0])\n",
    "        for child in stateSpaceGraph[node[1][-1]]:\n",
    "            heappush(frontier, (node[0]-h[node[1][-1]]+child[0]+h[child[1]], node[1]+child[1]))\n",
    "        print(list(frontier))"
   ],
   "metadata": {
    "collapsed": false
   }
  },
  {
   "cell_type": "code",
   "execution_count": 24,
   "outputs": [
    {
     "name": "stdout",
     "output_type": "stream",
     "text": [
      "Initial frontier: [(366, 'A')]\n",
      "Exploring: A at cost 366\n",
      "[(393, 'AS'), (447, 'AT'), (449, 'AZ')]\n",
      "Exploring: S at cost 393\n",
      "[(413, 'ASR'), (447, 'AT'), (415, 'ASF'), (449, 'AZ'), (671, 'ASO'), (646, 'ASA')]\n",
      "Exploring: R at cost 413\n",
      "[(415, 'ASF'), (447, 'AT'), (417, 'ASRP'), (449, 'AZ'), (671, 'ASO'), (646, 'ASA'), (526, 'ASRC'), (553, 'ASRS')]\n",
      "Exploring: F at cost 415\n",
      "[(417, 'ASRP'), (447, 'AT'), (526, 'ASRC'), (449, 'AZ'), (671, 'ASO'), (646, 'ASA'), (553, 'ASRS'), (450, 'ASFB'), (591, 'ASFS')]\n",
      "Exploring: P at cost 417\n",
      "[(418, 'ASRPB'), (447, 'AT'), (526, 'ASRC'), (449, 'AZ'), (607, 'ASRPR'), (646, 'ASA'), (553, 'ASRS'), (591, 'ASFS'), (450, 'ASFB'), (671, 'ASO'), (615, 'ASRPC')]\n",
      "Solution path: (418, 'ASRPB')\n"
     ]
    }
   ],
   "source": [
    "print('Solution path:',aStarTsa(romania, romaniaH, 'A', 'B'))"
   ],
   "metadata": {
    "collapsed": false
   }
  },
  {
   "cell_type": "code",
   "execution_count": 24,
   "outputs": [],
   "source": [],
   "metadata": {
    "collapsed": false
   }
  }
 ],
 "metadata": {
  "kernelspec": {
   "display_name": "Python 3 (ipykernel)",
   "language": "python",
   "name": "python3"
  },
  "language_info": {
   "codemirror_mode": {
    "name": "ipython",
    "version": 2
   },
   "file_extension": ".py",
   "mimetype": "text/x-python",
   "name": "python",
   "nbconvert_exporter": "python",
   "pygments_lexer": "ipython2",
   "version": "2.7.6"
  }
 },
 "nbformat": 4,
 "nbformat_minor": 1
}
