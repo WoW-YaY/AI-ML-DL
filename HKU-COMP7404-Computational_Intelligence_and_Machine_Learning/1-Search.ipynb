{
 "cells": [
  {
   "cell_type": "markdown",
   "source": [
    "## 1 Search"
   ],
   "metadata": {
    "collapsed": false
   }
  },
  {
   "cell_type": "markdown",
   "source": [
    "### 1.1 Introduction"
   ],
   "metadata": {
    "collapsed": false
   }
  },
  {
   "cell_type": "markdown",
   "source": [
    "#### Abstraction\n",
    "\n",
    "**Search problems** are models: **Simplifications** of the real world; Solve a family of problems."
   ],
   "metadata": {
    "collapsed": false
   }
  },
  {
   "cell_type": "markdown",
   "source": [
    "#### Types of Search\n",
    "\n",
    "* Uninformed search: No information about the problem other than its definition is given\n",
    "* Informed search: A heuristic is used that leads to better overall performance in getting to the goal state\n",
    "* Local Search: Evaluate and modify a current state to move closer to a goal state\n",
    "* Constraint Satisfaction Problems: For certain types of problems we can search for solution faster by understanding states better\n",
    "* Adversarial Search: Search in the presence of an adversary"
   ],
   "metadata": {
    "collapsed": false
   }
  },
  {
   "cell_type": "markdown",
   "source": [
    "#### Search Problem Definition\n",
    "\n",
    "**Definition** of search problem: (A solution is a sequence of actions (a plan) which transforms the start state to a goal state)\n",
    "\n",
    "* States: Details of what constitutes a state\n",
    "* Initial state: The state the agent starts in\n",
    "* Actions and transition model: Description of possible actions available; Description of what each action does (determined rather than contained uncertainty)\n",
    "* Goal test: Is a given state a goal state?\n",
    "\n",
    "● Path cost: A function that assigns a zero or positive numeric cost to each path\n",
    "\n",
    "**N-Queen Puzzle**: n queens are put in a n*n board, and none attacked.\n",
    "\n",
    "* Problem Definition A\n",
    "  * States: Any arrangement of 0 to n queens on the board\n",
    "  * Initial state: No queens on the board\n",
    "  * Actions and Transition model: Add a queen to an empty square\n",
    "  * Goal test: n queens are on the board, none attacked\n",
    "\n",
    "* Problem Definition B\n",
    "  * States: (at most) One queen per column, none attacking another\n",
    "  * Initial state: No queens on the board\n",
    "  * Actions and Transition model: Add a queen to an empty column such that no other queen is under attack\n",
    "  * Goal test: n queens are on the board\n",
    "\n",
    "Which is better? B has fewer states in state space"
   ],
   "metadata": {
    "collapsed": false
   }
  },
  {
   "cell_type": "markdown",
   "source": [
    "#### State Space Graph vs. Search Tree\n",
    "\n",
    "**State Space**: The set of all states reachable from the initial state by any sequence of actions is the state space.\n",
    "\n",
    "* That's a ==graph==, the **nodes** are **states**, and the **links** between nodes are **actions**\n",
    "\n",
    "* The possible action sequences (node) form a search ==tree==: A solution is a path leading from the initial state to a goal state\n",
    "\n",
    "**State Space Graph v.s. Search Tree**:\n",
    "\n",
    "* Nodes are: states; a set of action sequences\n",
    "\n",
    "* States: occurs only once; may occur more than once\n",
    "\n",
    "* *Loop* graph; infinity depth tree\n",
    "\n",
    "  <img src=\"images/1-01.png\" style=\"zoom:50%;\" />"
   ],
   "metadata": {
    "collapsed": false
   }
  },
  {
   "cell_type": "markdown",
   "source": [
    "### 1.2 Search Strategy & Search Algorithm (TSA, GSA)\n",
    "\n",
    "The search strategy defines the order of node expansion (ask a node how many neighbors it has, fewer is better)"
   ],
   "metadata": {
    "collapsed": false
   }
  },
  {
   "cell_type": "markdown",
   "source": [
    "#### Search Strategy Evaluation\n",
    "\n",
    "Search strategies are **evaluated** along the following dimensions:\n",
    "\n",
    "* Completeness: Always find a solution if one exists?\n",
    "* Optimality: Always find a least-cost solution?\n",
    "* Time complexity: Number of nodes generated (= edges traversed) / how many states have to look at\n",
    "* Space complexity: Max number of nodes in memory / how many states in the frontier (and explored set)\n",
    "\n",
    "> Time / space complexity are measured in terms of:\n",
    ">\n",
    "> * ***b***: maximum branching factor of the search tree\n",
    "> * ***d***: distance to root of the shallowest solution\n",
    "> * ***m***: maximum length of any path in the state space"
   ],
   "metadata": {
    "collapsed": false
   }
  },
  {
   "cell_type": "markdown",
   "source": [
    "#### Uninformed (Blind) Search Strategies\n",
    "\n",
    "* Breadth-first search (BFS)\n",
    "* Depth-first search (DFS)\n",
    "* Uniform-cost search (UCS)"
   ],
   "metadata": {
    "collapsed": false
   }
  },
  {
   "cell_type": "markdown",
   "source": [
    "#### Search Algorithms\n",
    "\n",
    "Search algorithms come in two different flavors:\n",
    "\n",
    "* Tree search algorithm (TSA)\n",
    "* Graph search algorithm (GSA)\n",
    "\n",
    "3*2 = 6 kinds of search algorithms"
   ],
   "metadata": {
    "collapsed": false
   }
  },
  {
   "cell_type": "markdown",
   "source": [
    "#### Romania Problem\n",
    "\n",
    "We define a \"Romanian problem\" to provide a case for the subsequent discussion. Our mission is to depart from *Arad* and eventually reach *Bucharest*.\n",
    "\n",
    "<img src=\"images/1-02.png\" style=\"zoom:50%;\" />"
   ],
   "metadata": {
    "collapsed": false
   }
  },
  {
   "cell_type": "code",
   "execution_count": 1,
   "outputs": [],
   "source": [
    "# problem definition\n",
    "romania = {\n",
    "    'A':['S','T','Z'],'Z':['A','O'],'O':['S','Z'],'T':['A','L'],'L':['M','T'],'M':['D','L'],\n",
    "    'D':['C','M'],'S':['A','F','O','R'],'R':['C','P','S'],'C':['D','P','R'],\n",
    "    'F':['B','S'],'P':['B','C','R'],'B':[]\n",
    "}"
   ],
   "metadata": {
    "collapsed": false
   }
  },
  {
   "cell_type": "markdown",
   "source": [
    "### 1.3 Uninformed - BFS\n",
    "\n",
    "* The BFS search strategy explores the shallowest node in the search tree.\n",
    "\n",
    "* The data structure that BFS is using for the frontier is a ***queue*** (first in first out)."
   ],
   "metadata": {
    "collapsed": false
   }
  },
  {
   "cell_type": "code",
   "execution_count": 2,
   "outputs": [
    {
     "data": {
      "text/plain": "'A'"
     },
     "execution_count": 2,
     "metadata": {},
     "output_type": "execute_result"
    }
   ],
   "source": [
    "import collections\n",
    "queue = collections.deque(['A', 'B', 'C', 'D']) # double-ended queue\n",
    "queue.popleft()"
   ],
   "metadata": {
    "collapsed": false
   }
  },
  {
   "cell_type": "code",
   "execution_count": 3,
   "outputs": [
    {
     "data": {
      "text/plain": "deque(['B', 'C', 'D'])"
     },
     "execution_count": 3,
     "metadata": {},
     "output_type": "execute_result"
    }
   ],
   "source": [
    "queue"
   ],
   "metadata": {
    "collapsed": false
   }
  },
  {
   "cell_type": "code",
   "execution_count": 4,
   "outputs": [
    {
     "data": {
      "text/plain": "'B'"
     },
     "execution_count": 4,
     "metadata": {},
     "output_type": "execute_result"
    }
   ],
   "source": [
    "queue.popleft()"
   ],
   "metadata": {
    "collapsed": false
   }
  },
  {
   "cell_type": "code",
   "execution_count": 5,
   "outputs": [
    {
     "data": {
      "text/plain": "deque(['C', 'D'])"
     },
     "execution_count": 5,
     "metadata": {},
     "output_type": "execute_result"
    }
   ],
   "source": [
    "queue"
   ],
   "metadata": {
    "collapsed": false
   }
  },
  {
   "cell_type": "markdown",
   "source": [
    "#### Tree Search Algorithm (TSA) - BFS Version\n",
    "\n",
    "<img src=\"images/1-03.png\" style=\"zoom:50%;\" />\n",
    "\n",
    "(the ONLY difference between BFS, DFS and UCS is how to choose the node)"
   ],
   "metadata": {
    "collapsed": false
   }
  },
  {
   "cell_type": "code",
   "execution_count": 6,
   "outputs": [],
   "source": [
    "import collections\n",
    "def bfsTsa(stateSpaceGraph, startState, goalState):\n",
    "    frontier = collections.deque([startState])\n",
    "    print('Initial frontier:',list(frontier))\n",
    "    while frontier:\n",
    "        node = frontier.popleft()\n",
    "        if (node.endswith(goalState)): return node\n",
    "        print('Exploring:',node[-1],'...')\n",
    "        for child in stateSpaceGraph[node[-1]]: frontier.append(node+child)\n",
    "        print(list(frontier))"
   ],
   "metadata": {
    "collapsed": false
   }
  },
  {
   "cell_type": "code",
   "execution_count": 7,
   "outputs": [
    {
     "name": "stdout",
     "output_type": "stream",
     "text": [
      "Initial frontier: ['A']\n",
      "Exploring: A ...\n",
      "['AS', 'AT', 'AZ']\n",
      "Exploring: S ...\n",
      "['AT', 'AZ', 'ASA', 'ASF', 'ASO', 'ASR']\n",
      "Exploring: T ...\n",
      "['AZ', 'ASA', 'ASF', 'ASO', 'ASR', 'ATA', 'ATL']\n",
      "Exploring: Z ...\n",
      "['ASA', 'ASF', 'ASO', 'ASR', 'ATA', 'ATL', 'AZA', 'AZO']\n",
      "Exploring: A ...\n",
      "['ASF', 'ASO', 'ASR', 'ATA', 'ATL', 'AZA', 'AZO', 'ASAS', 'ASAT', 'ASAZ']\n",
      "Exploring: F ...\n",
      "['ASO', 'ASR', 'ATA', 'ATL', 'AZA', 'AZO', 'ASAS', 'ASAT', 'ASAZ', 'ASFB', 'ASFS']\n",
      "Exploring: O ...\n",
      "['ASR', 'ATA', 'ATL', 'AZA', 'AZO', 'ASAS', 'ASAT', 'ASAZ', 'ASFB', 'ASFS', 'ASOS', 'ASOZ']\n",
      "Exploring: R ...\n",
      "['ATA', 'ATL', 'AZA', 'AZO', 'ASAS', 'ASAT', 'ASAZ', 'ASFB', 'ASFS', 'ASOS', 'ASOZ', 'ASRC', 'ASRP', 'ASRS']\n",
      "Exploring: A ...\n",
      "['ATL', 'AZA', 'AZO', 'ASAS', 'ASAT', 'ASAZ', 'ASFB', 'ASFS', 'ASOS', 'ASOZ', 'ASRC', 'ASRP', 'ASRS', 'ATAS', 'ATAT', 'ATAZ']\n",
      "Exploring: L ...\n",
      "['AZA', 'AZO', 'ASAS', 'ASAT', 'ASAZ', 'ASFB', 'ASFS', 'ASOS', 'ASOZ', 'ASRC', 'ASRP', 'ASRS', 'ATAS', 'ATAT', 'ATAZ', 'ATLM', 'ATLT']\n",
      "Exploring: A ...\n",
      "['AZO', 'ASAS', 'ASAT', 'ASAZ', 'ASFB', 'ASFS', 'ASOS', 'ASOZ', 'ASRC', 'ASRP', 'ASRS', 'ATAS', 'ATAT', 'ATAZ', 'ATLM', 'ATLT', 'AZAS', 'AZAT', 'AZAZ']\n",
      "Exploring: O ...\n",
      "['ASAS', 'ASAT', 'ASAZ', 'ASFB', 'ASFS', 'ASOS', 'ASOZ', 'ASRC', 'ASRP', 'ASRS', 'ATAS', 'ATAT', 'ATAZ', 'ATLM', 'ATLT', 'AZAS', 'AZAT', 'AZAZ', 'AZOS', 'AZOZ']\n",
      "Exploring: S ...\n",
      "['ASAT', 'ASAZ', 'ASFB', 'ASFS', 'ASOS', 'ASOZ', 'ASRC', 'ASRP', 'ASRS', 'ATAS', 'ATAT', 'ATAZ', 'ATLM', 'ATLT', 'AZAS', 'AZAT', 'AZAZ', 'AZOS', 'AZOZ', 'ASASA', 'ASASF', 'ASASO', 'ASASR']\n",
      "Exploring: T ...\n",
      "['ASAZ', 'ASFB', 'ASFS', 'ASOS', 'ASOZ', 'ASRC', 'ASRP', 'ASRS', 'ATAS', 'ATAT', 'ATAZ', 'ATLM', 'ATLT', 'AZAS', 'AZAT', 'AZAZ', 'AZOS', 'AZOZ', 'ASASA', 'ASASF', 'ASASO', 'ASASR', 'ASATA', 'ASATL']\n",
      "Exploring: Z ...\n",
      "['ASFB', 'ASFS', 'ASOS', 'ASOZ', 'ASRC', 'ASRP', 'ASRS', 'ATAS', 'ATAT', 'ATAZ', 'ATLM', 'ATLT', 'AZAS', 'AZAT', 'AZAZ', 'AZOS', 'AZOZ', 'ASASA', 'ASASF', 'ASASO', 'ASASR', 'ASATA', 'ASATL', 'ASAZA', 'ASAZO']\n",
      "Solution path: ASFB\n"
     ]
    }
   ],
   "source": [
    "print('Solution path:',bfsTsa(romania, 'A', 'B'))"
   ],
   "metadata": {
    "collapsed": false
   }
  },
  {
   "cell_type": "markdown",
   "source": [
    "This is consuming! We should remember where we have been already! That's GSA"
   ],
   "metadata": {
    "collapsed": false
   }
  },
  {
   "cell_type": "markdown",
   "source": [
    "#### Graph Search Algorithm (GSA) - BFS Version\n",
    "\n",
    "<img src=\"images/1-04.png\" style=\"zoom:50%;\" />"
   ],
   "metadata": {
    "collapsed": false
   }
  },
  {
   "cell_type": "code",
   "execution_count": 8,
   "outputs": [],
   "source": [
    "import collections\n",
    "def bfsGsa(stateSpaceGraph, startState, goalState):\n",
    "    frontier = collections.deque([startState])\n",
    "    exploredSet = set()\n",
    "    print('Initial frontier:',list(frontier))\n",
    "    while frontier:\n",
    "        node = frontier.popleft()\n",
    "        if (node.endswith(goalState)): return node\n",
    "        if node[-1] not in exploredSet:\n",
    "            print('Exploring:',node[-1],'...')\n",
    "            exploredSet.add(node[-1])\n",
    "            for child in stateSpaceGraph[node[-1]]: frontier.append(node+child)\n",
    "            print(list(frontier))\n",
    "            print(exploredSet)"
   ],
   "metadata": {
    "collapsed": false
   }
  },
  {
   "cell_type": "code",
   "execution_count": 9,
   "outputs": [
    {
     "name": "stdout",
     "output_type": "stream",
     "text": [
      "Initial frontier: ['A']\n",
      "Exploring: A ...\n",
      "['AS', 'AT', 'AZ']\n",
      "{'A'}\n",
      "Exploring: S ...\n",
      "['AT', 'AZ', 'ASA', 'ASF', 'ASO', 'ASR']\n",
      "{'S', 'A'}\n",
      "Exploring: T ...\n",
      "['AZ', 'ASA', 'ASF', 'ASO', 'ASR', 'ATA', 'ATL']\n",
      "{'S', 'A', 'T'}\n",
      "Exploring: Z ...\n",
      "['ASA', 'ASF', 'ASO', 'ASR', 'ATA', 'ATL', 'AZA', 'AZO']\n",
      "{'S', 'A', 'T', 'Z'}\n",
      "Exploring: F ...\n",
      "['ASO', 'ASR', 'ATA', 'ATL', 'AZA', 'AZO', 'ASFB', 'ASFS']\n",
      "{'F', 'S', 'A', 'T', 'Z'}\n",
      "Exploring: O ...\n",
      "['ASR', 'ATA', 'ATL', 'AZA', 'AZO', 'ASFB', 'ASFS', 'ASOS', 'ASOZ']\n",
      "{'O', 'F', 'S', 'A', 'T', 'Z'}\n",
      "Exploring: R ...\n",
      "['ATA', 'ATL', 'AZA', 'AZO', 'ASFB', 'ASFS', 'ASOS', 'ASOZ', 'ASRC', 'ASRP', 'ASRS']\n",
      "{'O', 'F', 'S', 'A', 'R', 'T', 'Z'}\n",
      "Exploring: L ...\n",
      "['AZA', 'AZO', 'ASFB', 'ASFS', 'ASOS', 'ASOZ', 'ASRC', 'ASRP', 'ASRS', 'ATLM', 'ATLT']\n",
      "{'O', 'F', 'S', 'A', 'R', 'L', 'T', 'Z'}\n",
      "Solution path: ASFB\n"
     ]
    }
   ],
   "source": [
    "print('Solution path:',bfsGsa(romania, 'A', 'B'))"
   ],
   "metadata": {
    "collapsed": false
   }
  },
  {
   "cell_type": "markdown",
   "source": [
    "> ***Question***: will TSA and GSA give the same solution if there are no loops.\n",
    ">\n",
    "> Exploration order: the destination is not included."
   ],
   "metadata": {
    "collapsed": false
   }
  },
  {
   "cell_type": "markdown",
   "source": [
    "#### BFS Properties\n",
    "\n",
    "| Completeness | Optimality                     | Time complexity              | Space complexity          |\n",
    "| ------------ | ------------------------------ | ---------------------------- | ------------------------- |\n",
    "| YES          | NO, don't even care about cost | $b^0+b^1+...+b^d-1 = O(b^d)$ | TSA: $b^{d+1}-b = O(b^d)$ |"
   ],
   "metadata": {
    "collapsed": false
   }
  },
  {
   "cell_type": "markdown",
   "source": [
    "### 1.4 Uninformed - DFS\n",
    "\n",
    "* DFS explores the deepest node in the search tree\n",
    "* DFS uses ***stack*** rather than queue in the data structure\n",
    "  * In python, we just replace *popleft( )* with *pop( )*"
   ],
   "metadata": {
    "collapsed": false
   }
  },
  {
   "cell_type": "code",
   "execution_count": 10,
   "outputs": [],
   "source": [
    "import collections\n",
    "def dfsGsa(stateSpaceGraph, startState, goalState):\n",
    "    frontier = collections.deque([startState])\n",
    "    exploredSet = set()\n",
    "    print('Initial frontier:',list(frontier))\n",
    "    while frontier:\n",
    "        node = frontier.pop()\n",
    "        if (node.endswith(goalState)): return node\n",
    "        if node[-1] not in exploredSet:\n",
    "            print('Exploring:',node[-1],'...')\n",
    "            exploredSet.add(node[-1])\n",
    "            for child in stateSpaceGraph[node[-1]]: frontier.append(node+child)\n",
    "            print(list(frontier))\n",
    "            print(exploredSet)"
   ],
   "metadata": {
    "collapsed": false
   }
  },
  {
   "cell_type": "code",
   "execution_count": 11,
   "outputs": [
    {
     "name": "stdout",
     "output_type": "stream",
     "text": [
      "Initial frontier: ['A']\n",
      "Exploring: A ...\n",
      "['AS', 'AT', 'AZ']\n",
      "{'A'}\n",
      "Exploring: Z ...\n",
      "['AS', 'AT', 'AZA', 'AZO']\n",
      "{'A', 'Z'}\n",
      "Exploring: O ...\n",
      "['AS', 'AT', 'AZA', 'AZOS', 'AZOZ']\n",
      "{'O', 'A', 'Z'}\n",
      "Exploring: S ...\n",
      "['AS', 'AT', 'AZA', 'AZOSA', 'AZOSF', 'AZOSO', 'AZOSR']\n",
      "{'S', 'O', 'A', 'Z'}\n",
      "Exploring: R ...\n",
      "['AS', 'AT', 'AZA', 'AZOSA', 'AZOSF', 'AZOSO', 'AZOSRC', 'AZOSRP', 'AZOSRS']\n",
      "{'O', 'S', 'A', 'R', 'Z'}\n",
      "Exploring: P ...\n",
      "['AS', 'AT', 'AZA', 'AZOSA', 'AZOSF', 'AZOSO', 'AZOSRC', 'AZOSRPB', 'AZOSRPC', 'AZOSRPR']\n",
      "{'O', 'S', 'P', 'A', 'R', 'Z'}\n",
      "Exploring: C ...\n",
      "['AS', 'AT', 'AZA', 'AZOSA', 'AZOSF', 'AZOSO', 'AZOSRC', 'AZOSRPB', 'AZOSRPCD', 'AZOSRPCP', 'AZOSRPCR']\n",
      "{'O', 'S', 'P', 'A', 'R', 'C', 'Z'}\n",
      "Exploring: D ...\n",
      "['AS', 'AT', 'AZA', 'AZOSA', 'AZOSF', 'AZOSO', 'AZOSRC', 'AZOSRPB', 'AZOSRPCDC', 'AZOSRPCDM']\n",
      "{'D', 'O', 'S', 'P', 'A', 'R', 'C', 'Z'}\n",
      "Exploring: M ...\n",
      "['AS', 'AT', 'AZA', 'AZOSA', 'AZOSF', 'AZOSO', 'AZOSRC', 'AZOSRPB', 'AZOSRPCDC', 'AZOSRPCDMD', 'AZOSRPCDML']\n",
      "{'D', 'O', 'S', 'P', 'M', 'A', 'R', 'C', 'Z'}\n",
      "Exploring: L ...\n",
      "['AS', 'AT', 'AZA', 'AZOSA', 'AZOSF', 'AZOSO', 'AZOSRC', 'AZOSRPB', 'AZOSRPCDC', 'AZOSRPCDMD', 'AZOSRPCDMLM', 'AZOSRPCDMLT']\n",
      "{'D', 'O', 'S', 'P', 'M', 'A', 'R', 'C', 'L', 'Z'}\n",
      "Exploring: T ...\n",
      "['AS', 'AT', 'AZA', 'AZOSA', 'AZOSF', 'AZOSO', 'AZOSRC', 'AZOSRPB', 'AZOSRPCDC', 'AZOSRPCDMD', 'AZOSRPCDMLM', 'AZOSRPCDMLTA', 'AZOSRPCDMLTL']\n",
      "{'D', 'O', 'S', 'P', 'M', 'A', 'R', 'C', 'L', 'T', 'Z'}\n",
      "Solution path: AZOSRPB\n"
     ]
    }
   ],
   "source": [
    "print('Solution path:',dfsGsa(romania, 'A', 'B'))"
   ],
   "metadata": {
    "collapsed": false
   }
  },
  {
   "cell_type": "markdown",
   "source": [
    "| Completeness (TSA)       | Optimality                 | Time complexity              | Space complexity                     |\n",
    "| ------------------------ | -------------------------- | ---------------------------- | ------------------------------------ |\n",
    "| NO, a circle is possible | NO, don't even completable | $b^0+b^1+...+b^m-1 = O(b^m)$ | $(b-1)\\times (m-1)+b = O(b\\times m)$ |\n",
    "\n",
    "Space complexity is much better!"
   ],
   "metadata": {
    "collapsed": false
   }
  },
  {
   "cell_type": "markdown",
   "source": [
    "#### (BFS/DFS) - (TSA/GSA) Summary\n",
    "\n",
    "**BFS vs. DFS**:\n",
    "\n",
    "* If solutions are close to the root of the search tree: BFS outperforms DFS\n",
    "* If all solutions are deep inside the search tree: DFS outperforms BFS\n",
    "\n",
    "**GSA vs. TSA**:\n",
    "\n",
    "* GSA\n",
    "  * Avoids infinite loops\n",
    "  * Eliminates exponentially many redundant paths\n",
    "  * Requires memory proportional to its runtime\n",
    "* TSA\n",
    "  * Could be stuck in infinite loops\n",
    "  * Explores redundant paths\n",
    "  * Requires less memory\n",
    "  * Easier to implement"
   ],
   "metadata": {
    "collapsed": false
   }
  }
 ],
 "metadata": {
  "kernelspec": {
   "display_name": "Python 3 (ipykernel)",
   "language": "python",
   "name": "python3"
  },
  "language_info": {
   "codemirror_mode": {
    "name": "ipython",
    "version": 2
   },
   "file_extension": ".py",
   "mimetype": "text/x-python",
   "name": "python",
   "nbconvert_exporter": "python",
   "pygments_lexer": "ipython2",
   "version": "2.7.6"
  }
 },
 "nbformat": 4,
 "nbformat_minor": 1
}
