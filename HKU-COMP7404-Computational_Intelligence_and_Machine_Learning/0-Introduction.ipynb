{
 "cells": [
  {
   "cell_type": "markdown",
   "source": [
    "## 0 Introduction\n",
    "\n",
    "**Presentation** - Inspire others rather than show how good you are\n",
    "\n",
    "move all the details, focus on the background (why) or impact (how) behind the paper."
   ],
   "metadata": {
    "collapsed": false
   }
  },
  {
   "cell_type": "markdown",
   "source": [
    "### Artificial Intelligence\n",
    "\n",
    "AI goes further than just understanding intelligence, It attempts to build intelligent entities.\n",
    "\n",
    "**Is AI science, or is it engineering?**\n",
    "\n",
    "* AI’s science goal: To understand the principles and mechanism that account for intelligent action.\n",
    "* AI’s engineering goal: To design intelligent artifacts that can survive and operate in the physical world and solve problems of considerable scientific difficulty at high levels of competence.\n",
    "\n",
    "**Goals for AI**\n",
    "\n",
    "* Think Humanly: Would we be able to achieve the brain’s level of intelligence with a computer of unlimited capacity? NO.\n",
    "  * We don't need to understand how it works, just assume it works.\n",
    "  * But we don't know what algorithm to use.\n",
    "\n",
    "* Act Humanly\n",
    "  * 1st definition of AI - Turing test\n",
    "  * Inverse turing test - Captcha\n",
    "* Think Rationally\n",
    "  * Slove problem by logic notation, but how to take informal knowledge and state it in formal terms? How about uncertainty?\n",
    "* **Act Rationally** (Rational Agent)\n",
    "  * Act so as to achieve the best outcome or, when there is uncertainty, the best expected outcome.\n",
    "  * For any given class of environments and tasks, we seek the agent (or class of agents) with the best performance.\n",
    "    * Engineering topic: Computational limitations make perfect rationality unachievable, our goal is to design best program for given machine resources."
   ],
   "metadata": {
    "collapsed": false
   }
  },
  {
   "cell_type": "markdown",
   "source": [
    "### Machine Learning\n",
    "\n",
    "An agent is learning if it improves its performance on future tasks. **Why bad -better-> best?**\n",
    "\n",
    "* Cannot anticipate all possible situations.\n",
    "* Cannot anticipate all changes over time.\n",
    "* Don’t know how to program some solutions\n",
    "\n",
    "**Milestones of AI**\n",
    "\n",
    "● Inception (1943 - 1956)\t\t\t\t● Early Enthusiasm (1952 - 1969)\n",
    "\n",
    "● A dose of reality (1966 - 1973) \t● Expert systems (1969 - 1986)\n",
    "\n",
    "● Return of NN (1986 - present)  \t● Probabilistic reasoning (1987 - present)\n",
    "\n",
    "● Big data (2001 - present)\t\t  \t● Deep Learning (2011 - present)\n",
    "\n",
    "First solve AI, then use AI to solve everything else. - Demis Hassabis, Google DeepMind\n",
    "\n",
    "Risks of AI - The Gorilla Problem"
   ],
   "metadata": {
    "collapsed": false
   }
  }
 ],
 "metadata": {
  "kernelspec": {
   "display_name": "Python 3",
   "language": "python",
   "name": "python3"
  },
  "language_info": {
   "codemirror_mode": {
    "name": "ipython",
    "version": 2
   },
   "file_extension": ".py",
   "mimetype": "text/x-python",
   "name": "python",
   "nbconvert_exporter": "python",
   "pygments_lexer": "ipython2",
   "version": "2.7.6"
  }
 },
 "nbformat": 4,
 "nbformat_minor": 0
}
